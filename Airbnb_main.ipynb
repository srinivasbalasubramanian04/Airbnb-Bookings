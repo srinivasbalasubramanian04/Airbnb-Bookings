# Run this file to integrate all modules.

# Import library Functions
import sqlite3
from sqlite3 import Error
import pandas as pd

# Import functions from other modules
from ClassBooking import Booking
from ClassSelect import Select
from ClassDelete import Delete
from ClassUpdate import UpdateStays
from ClassUpdate import UpdateHost
from ClassUpdate import UpdateCounty
from Airbnb_UnitTest_Method import unit_testing
from CreateTableCommands import create_table
from CreateTableCommands import create_county
from CreateTableCommands import create_acc
from CreateTableCommands import create_review
from CreateTableCommands import create_host
from CreateTableCommands import create_bookings

# Database name
database = "airbnb.db"


# *******************************************************Creates Connection*******************************************#

# Function to Create Database connection takes database name as positional argument
# returns conn element
def create_connection(airbnb):
    conn = None
    try:
        conn = sqlite3.connect(airbnb)
        conn.text_factory = str
        return conn
    except Error as e:
        print(e)
        return conn


# Create database connection
conn = create_connection(database)
# Set FOREIGN KEY constraint OFF
conn.execute("PRAGMA foreign_keys = 0")
# open Cursor
c = conn.cursor()
# *******************************************************************************************************************#

# **************************************************Cleanses CSV & Loads Data*****************************************#


# Parent Class Airbnb has four child classes AND a method to remove duplicates.
class Airbnb(object):

    def __init__(self):
        # Import the dataset into the program as a data frame.
        self.read_data = pd.read_csv('listings.csv', header=0)

        # read portion of data from dataframe # Inherited attribute
        self.listings = self.read_data.loc[:, ["id", "name", "latitude", "longitude", "room_type", "price",
                                               "minimum_nights", "availability_365", "calculated_host_listings_count",
                                               "host_id", "neighbourhood"]]

        self.stays_review = self.read_data.loc[:, ["id", "number_of_reviews", "last_review", "reviews_per_month"]]

        self.landlord = self.read_data.loc[:, ["host_id", "host_name"]]

        self.neighbourhood = self.read_data.loc[:, ["neighbourhood", "neighbourhood_group"]]

    def drop_duplicates(self, duplicates):
        # Data cleansing - Drop duplicate records - pass data frame with duplicate records
        listings = duplicates.drop_duplicates(keep='first')
        return listings


# Accommodation class inherited from Airbnb parent class has one method
class Accommodation(Airbnb):

    # stays method uses attributes from Airbnb class takes no arguments # returns nothing
    def stays(self):
        # Data cleansing - Drop duplicate records using method from parent class and load it to tables
        Airbnb.drop_duplicates(self, self.listings).to_sql("stays", conn, if_exists='append', index=False)
        # Export portion of data to csv
        Airbnb.drop_duplicates(self, self.listings).to_csv("stays.csv", index=False)
        return


# StaysReview class inherited from Airbnb parent class has one method
class StaysReview(Airbnb):

    # review method uses attributes from Airbnb class takes no arguments # returns nothing
    def review(self):
        # Data cleansing - Drop duplicate records using method from parent class and load it to tables
        stays_review = Airbnb.drop_duplicates(self, self.stays_review)
        # Dropped unwanted data from the dataset
        stays_review = stays_review[stays_review.number_of_reviews > 0]
        # Populate portion of data to normalized table
        stays_review.to_sql("review", conn, if_exists='append', index=False)
        # Export portion of data to csv
        stays_review.to_csv("stays_review.csv", index=False)
        return


# Landlord class inherited from Airbnb parent class has one method
class Landlord(Airbnb):

    # host method uses attributes from Airbnb class takes no arguments # returns nothing
    def host(self):
        # Data cleansing - Drop duplicate records using method from parent class and load it to tables
        Airbnb.drop_duplicates(self, self.landlord).to_sql("host", conn, if_exists='append', index=False)
        # Export portion of data to csv
        Airbnb.drop_duplicates(self, self.landlord).to_csv("stays_review.csv", index=False)
        return


# Neighbourhood class inherited from Airbnb parent class has one method
class Neighbourhood(Airbnb):

    # county method uses attributes from Airbnb class takes no arguments # returns nothing
    def county(self):
        # Data cleansing - Drop duplicate records using method from parent class and load it to tables
        Airbnb.drop_duplicates(self, self.neighbourhood).to_sql("county", conn, if_exists='append', index=False)
        # Export portion of data to csv
        Airbnb.drop_duplicates(self, self.neighbourhood).to_csv("stays_review.csv", index=False)
        return


# Commit
conn.commit()

stays = Accommodation()
review = StaysReview()
host = Landlord()
county = Neighbourhood()

# Commit
conn.commit()

# ********************************************************************************************************************#

# create accommodation tables
create_table(create_acc)
# create review tables
create_table(create_review)
# create host tables
create_table(create_host)
# create county tables
create_table(create_county)
# Create bookings tables
# create_table(create_bookings)
# Create bookings tables
create_table(create_bookings)

conn.commit()
try:
    stays.stays()
    review.review()
    host.host()
    county.county()
    print("-------------------------------------------------------------------------------------------"
          "\n     |||#*#*#*#*---------Data loaded into normalized tables!!!--------*#*#*#*#|||\n"
          "-------------------------------------------------------------------------------------------")
except Error as e:

    print("-------------------------------------------------------------------------------------------"
          "\n               |||#*#*#*#*---------Data loaded already!!!--------*#*#*#*#|||\n"
          "|||#*#*#*#*---------Error message:", e, "!!!--------*#*#*#*#|||\n"
                                                   "-------------------------------------------------------------------------------------------")

# ********************************************************************************************************************#

search = Select()
remove = Delete()
update_stays = UpdateStays()
update_host = UpdateHost()
update_county = UpdateCounty()
booking = Booking()

# Commit
conn.commit()
c.close()
# ********************************************************************************************************************#

# ********************************************Test Data & Test Scripts*************************************************#

# ****************************************************ClassSelect*****************************************************#

# Test Data to test budget stays method
county = ['Woodlands', 'River Valley', 'Sembawang']  # neighbourhood
budget_price = [10, 20, 30]
limit = 2

# Test Script to test budget stays method
for i in range(len(budget_price)):
    print('____Test ', i + 1, ' budget stays____________')
    print('Test input:- county:', county[i], ',budget price', budget_price[i])
    try:
        # budget_stays_based_on_neighbourhood arguments: self, county_name, price:
        search.budget_stays_based_on_neighbourhood(county[i], budget_price[i], limit)
    except Error as e:
        print(e)
print('______________________________________________')
# Test Data to test short vacation method
short_vaca_days = [0, 5, 20]
limit = 2

# Test script to test short vacation method
for i in range(len(short_vaca_days)):
    print('____Test ', i + 1, ' short vacation____________')
    print('Test input:- days :', short_vaca_days[i])
    try:
        # stays_for_short_vacation arguments : days:
        search.stays_for_short_vacation(short_vaca_days[i], limit)
    except Error as e:
        print(e)
print('______________________________________________')

# Test Data to test top stays method
# Test Cases to check whether join between county and stays are working fine.
county = ['Woodlands', 'River Valley', 'Sembawang']  # neighbourhood
no_of_reviews = [200, 100, 150]

# Test scripts to test top stays method
for i in range(len(no_of_reviews)):
    print('____Test ', i + 1, ' top stays____________')
    print('Test input:- county:', county[i], ',no of reviews:', no_of_reviews[i])
    try:
        # top_stays_in_neighbourhood county, no_of_reviews :
        search.top_stays_in_neighbourhood(county[i], no_of_reviews[i])
    except Error as e:
        print(e)
print('______________________________________________')

# *****************************************************Class Update****************************************************#

# Test Data to test add stays method
l_id = [71907, 1111, 3333]
name = ['stay near lake', 'park view tower', 'stay with garden']
latitude = [100.76, 123.56, 111.02]
longitude = [12.9, 10.09, 11.19]
room_type = ['private', 'Entire house', 'private']
price = [12, 150, 200]
minimum_nights = [10, 15, 30]
availability_365 = [10, 365, 50]
calculated_host_listings_count = [2, 5, 30]
host_id = [11111, 1017645, 12367]
county = ['Woodlands', 'River Valley', 'Sembawang1']  # neighbourhood

# Test scripts to test add stays method
for i in range(len(l_id)):
    print('____Test ', i + 1, ' add stays____________')
    print('Test input:- stayid:', l_id[i], ',name', name[i], ',latitude', latitude[i], ',longitude',
          longitude[i], ',room type', room_type[i], ',price', price[i], ',minimum nights', minimum_nights[i],
          ',availability', availability_365[i], ',host list cnt', calculated_host_listings_count[i], ',host id',
          host_id[i], ',county', county[i])
    try:
        # add_stays(self, l_id, name, latitude, longitude, room_type, price, minimum_nights, availability_365,calculated_host_listings_count,host_id, neighbourhood):
        update_stays.add_stays(l_id[i], name[i], latitude[i], longitude[i], room_type[i], price[i], minimum_nights[i],
                               availability_365[i], calculated_host_listings_count[i], host_id[i], county[i])
    except Error as e:
        print(e)
print('______________________________________________')

# Test Data to test add host method
host_id = [11111, 1017645, 22222]
host_name = ['qqqq', 'wwww', 'rrrr']

# Test script to test add host method
for i in range(len(host_id)):
    print('____Test ', i + 1, ' add host____________')
    print('Test input:- host id:', host_id[i], ',host name:', host_name[i])
    try:
        update_host.add_host(host_id[i], host_name[i])
    except Error as e:
        print(e)
print('______________________________________________')

# Test Data to test add county method
county = ['Woodlands', 'TEst1', 'TESt2']
county_group = ['GR1', 'GR2', 'GR3']

# Test script to test add county method
for i in range(len(county)):
    print('____Test ', i + 1, ' add county____________')
    print('Test input:- county:', county[i], ', county group:', county_group[i])
    try:
        update_county.add_county(county[i], county_group[i])
    except Error as e:
        print(e)
print('______________________________________________')

# **********************************************Class Delete***********************************************************#

# Test data to test delete review method
no_of_review = [1, 2, 3]

# Test script to test delete review method
for i in range(len(no_of_review)):
    print('____Test ', i + 1, ' delete review____________')
    print('Test input:- number of reviews:', no_of_review[i])
    try:
        remove.delete_review(no_of_review[i])
    except Error as e:
        print(e)
print('______________________________________________')

# Commit
conn.commit()

# *******************************************ClassBooking -  Unit Test************************************************#

# Unit Testing
# Test Data to test add_bookings Functions

booking_name = ['Ann', 'Jack', 'Sam']
no_of_people = [2, 3, 4]
no_of_days = [92, 12, 10]
stayid = [38112762, 3811276, 49091]

# Iterate the Test data
for i in range(len(no_of_people)):
    print('Test input :- Booking_name :', booking_name[i], ', no_of_people :', no_of_people[i], ', no_of_days :',
          no_of_days[i], ', Stay id :', stayid[i])
    try:
        # Invoke the add booking function to test
        booking.add_bookings(booking_name[i], no_of_people[i], no_of_days[i], stayid[i])
    # Catch exceptions
    except Error as e:
        print(e)
    # Call the unit testing function
    unit_testing(stayid[i])
